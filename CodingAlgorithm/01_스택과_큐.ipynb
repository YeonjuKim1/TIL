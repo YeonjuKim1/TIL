{
  "nbformat": 4,
  "nbformat_minor": 0,
  "metadata": {
    "colab": {
      "name": "01_스택과 큐.ipynb",
      "provenance": [],
      "collapsed_sections": []
    },
    "kernelspec": {
      "name": "python3",
      "display_name": "Python 3"
    },
    "language_info": {
      "name": "python"
    }
  },
  "cells": [
    {
      "cell_type": "markdown",
      "metadata": {
        "id": "VFSKbtMMisec"
      },
      "source": [
        "#스택\n",
        "\n",
        "## 스택 자료구조\n",
        "- 먼저 들어 온 데이터가 나중에 나가는 형식(선입후출)의 자료구조입니다.\n",
        "- 입구와 출구가 동일한 형태로 스택을 시각화할 수 있습니다."
      ]
    },
    {
      "cell_type": "code",
      "metadata": {
        "colab": {
          "base_uri": "https://localhost:8080/"
        },
        "id": "0MO1FFC1irur",
        "outputId": "066dc624-7459-4587-aa55-b13d8628d3ed"
      },
      "source": [
        "# ex) 삽입(5) - 삽입(2) - 삽입(3) - 삽입(7) - 삭제() - 삽입(1) - 삽입(4) - 삭제()\n",
        "\n",
        "stack = []\n",
        "stack.append(5)\n",
        "stack.append(2)\n",
        "stack.append(3)\n",
        "stack.append(7)\n",
        "stack.pop()\n",
        "stack.append(1)\n",
        "stack.append(4)\n",
        "stack.pop()\n",
        "\n",
        "print(stack[::-1]) # 최상단 원소부터 출력 [1, 3, 2, 5]\n",
        "print(stack) # 최하단 원소부터 출력 [5, 2, 3, 1]"
      ],
      "execution_count": 3,
      "outputs": [
        {
          "output_type": "stream",
          "text": [
            "[1, 3, 2, 5]\n",
            "[5, 2, 3, 1]\n"
          ],
          "name": "stdout"
        }
      ]
    },
    {
      "cell_type": "markdown",
      "metadata": {
        "id": "C-2-N3E4kGbT"
      },
      "source": [
        "# 큐\n",
        "## 큐 자료구조\n",
        "- 먼저 들어 온 데이터가 먼저 나가는 형식(선입선출)의 자료구조입니다.\n",
        "- 큐는 입구와 출구가 모두 뚫려 있는 터널과 같은 형태로 시각화 할 수 있습니다."
      ]
    },
    {
      "cell_type": "code",
      "metadata": {
        "colab": {
          "base_uri": "https://localhost:8080/"
        },
        "id": "UWoyBZzojXdf",
        "outputId": "3db6cf78-2af8-4fea-f96f-317cfb5c72e4"
      },
      "source": [
        "# ex) 삽입(5) - 삽입(2) - 삽입(3) - 삽입(7) - 삭제() - 삽입(1) - 삽입(4) - 삭제()\n",
        "# list 자료형을 이용할 수는 있지만, 시간복잡도가 높아서 deque 라이브러리 추천.\n",
        "\n",
        "from collections import deque\n",
        "\n",
        "queue = deque()\n",
        "\n",
        "queue.append(5)\n",
        "queue.append(2)\n",
        "queue.append(3)\n",
        "queue.append(7)\n",
        "queue.popleft()\n",
        "queue.append(1)\n",
        "queue.append(4)\n",
        "queue.popleft()\n",
        "\n",
        "print(queue) # 먼저 들어온 순서대로 출력  deque([3, 7, 1, 4])\n",
        "queue.reverse() # 역순으로 바꾸기\n",
        "print(queue) # 나중에 들어온 원소부터 출력  deque([4, 1, 7, 3])"
      ],
      "execution_count": 6,
      "outputs": [
        {
          "output_type": "stream",
          "text": [
            "deque([3, 7, 1, 4])\n",
            "deque([4, 1, 7, 3])\n"
          ],
          "name": "stdout"
        }
      ]
    },
    {
      "cell_type": "code",
      "metadata": {
        "id": "oZn4dMDQk-Va"
      },
      "source": [
        ""
      ],
      "execution_count": null,
      "outputs": []
    }
  ]
}