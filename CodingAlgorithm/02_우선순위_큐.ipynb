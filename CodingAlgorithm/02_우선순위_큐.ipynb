{
  "nbformat": 4,
  "nbformat_minor": 0,
  "metadata": {
    "colab": {
      "name": "02_우선순위 큐.ipynb",
      "provenance": [],
      "collapsed_sections": []
    },
    "kernelspec": {
      "name": "python3",
      "display_name": "Python 3"
    },
    "language_info": {
      "name": "python"
    }
  },
  "cells": [
    {
      "cell_type": "markdown",
      "metadata": {
        "id": "nVN-F5SrnR2D"
      },
      "source": [
        "# 우선순위 큐\n",
        "- 우선순위 큐는 우선순위가 가장 높은 데이터를 가장 먼저 삭제하는 자료구조입니다.\n",
        "- 우선순위 큐는 데이터를 우선순위에 따라 처리하고 싶을 때 사용합니다.\n",
        "\n",
        "ex) 물건 데이터를 자료구조에 넣었다가 가치가 높은 물건부터 꺼내서 확인해야 하는 경우\n",
        "\n",
        "-우선순위 큐를 구현하는 방법은 다양합니다.\n",
        "\n",
        "1) 단순히 리스트를 이용하여 구현할 수 있습니다.\n",
        "\n",
        "2) 힙(heap)을 이용하여 구현할 수 있습니다."
      ]
    },
    {
      "cell_type": "markdown",
      "metadata": {
        "id": "NFsXfRBioKkm"
      },
      "source": [
        "## 힙(Heap)의 특징\n",
        "- 힙은 완전 이진 트리 자료구조의 일종입니다.\n",
        "- 힙에서는 항상 루트 노드(root node)를 제거합니다.\n",
        "- 최소 힙(min heap)\n",
        "\n",
        "  루트 노드가 가장 작은 값을 가집니다.\n",
        "\n",
        "  따라서 값이 작은 데이터가 우선적으로 제거됩니다.\n",
        "- 최대 힙(max heap)\n",
        "\n",
        "  루트 노드가 가장 큰 값을 가집니다.\n",
        "\n",
        "  따라서 값이 큰 데이터가 우선적으로 제거됩니다.\n",
        "\n",
        "### 완전 이진 트리(Complete Binary Tree)\n",
        "- 완전 이진 트리란 루트(root) 노드부터 시작하여 왼쪽 자식 노드, 오른쪽 자식 노드 순서대로 데이터가 차례대로 삽입되는 트리(tree)를 의미합니다.\n",
        "\n",
        "### 최소 힙 구성 함수: Min-Heapify()\n",
        "- (상향식) 부모 노드로 거슬러 올라가며, 부모보다 자신의 값이 더 작은 경우에 위치를 교체합니다\n",
        "\n",
        "### 힙에서 원소가 제거될 때\n",
        "- 원소가 제거되었을 때 O(logN)의 시간 복잡도로 힙 성질을 유지하도록 할 수 있습니다. "
      ]
    },
    {
      "cell_type": "code",
      "metadata": {
        "id": "dnY2QS7inMLX"
      },
      "source": [
        "import sys\n",
        "import heapq\n",
        "input = sys.stdin.readline\n",
        "\n",
        "def heapsort(iterable):\n",
        "  h = []\n",
        "  result = []\n",
        "  # 모든 원소를 차례대로 힙에 삽입\n",
        "  for value in iterable:\n",
        "    heapq.heappush(h, value)\n",
        "  # 힙에 삽입된 모든 원소를 차례대로 꺼내어 담기\n",
        "  for i in range(len(h)):\n",
        "    result.append(heapq.heappop(h))\n",
        "  return result\n",
        "\n",
        "  n = int(input())\n",
        "  arr = []\n",
        "\n",
        "  for i in range(n):\n",
        "    arr.append(int(input()))\n",
        "\n",
        "  res = heapsort(arr)\n",
        "\n",
        "  for i in range(n):\n",
        "    print(res[i])"
      ],
      "execution_count": 2,
      "outputs": []
    },
    {
      "cell_type": "code",
      "metadata": {
        "id": "eY9Xb3cNqdrb"
      },
      "source": [
        ""
      ],
      "execution_count": null,
      "outputs": []
    }
  ]
}